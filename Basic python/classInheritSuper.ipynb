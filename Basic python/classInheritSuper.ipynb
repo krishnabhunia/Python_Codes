{
 "cells": [
  {
   "cell_type": "code",
   "execution_count": 32,
   "id": "58dd25b6",
   "metadata": {},
   "outputs": [
    {
     "name": "stdout",
     "output_type": "stream",
     "text": [
      "25\n",
      "200\n",
      "20\n",
      "60\n",
      "This is special type of Rectangle This is common shape\n",
      "This is common shape\n"
     ]
    }
   ],
   "source": [
    "class Shape:\n",
    "    def __init__(self):\n",
    "        super().__init__()\n",
    "    \n",
    "    def getInfo(self):\n",
    "        return \"This is common shape\"\n",
    "\n",
    "class Rectangle(Shape):\n",
    "    def __init__(self,l,b):\n",
    "        self.length = l\n",
    "        self.breadth = b\n",
    "        \n",
    "    def getArea(self):\n",
    "        self.area = self.length*self.breadth\n",
    "        return self.area\n",
    "    \n",
    "    def getPerimeter(self):\n",
    "        self.perimeter = self.length*2 + self.breadth*2\n",
    "        return self.perimeter\n",
    "\n",
    "class Square(Rectangle,Shape):\n",
    "    def __init__(self,l):\n",
    "        super().__init__(l,l)\n",
    "    \n",
    "    def getInfo(self):\n",
    "        return \"This is special type of Rectangle \" + super().getInfo()\n",
    "\n",
    "    \n",
    "s = Square(5)\n",
    "print(s.getArea())\n",
    "r = Rectangle(10,20)     \n",
    "print(r.getArea())\n",
    "print(s.getPerimeter())\n",
    "print(r.getPerimeter())\n",
    "    \n",
    "sh = Shape()\n",
    "print(s.getInfo())\n",
    "print(r.getInfo())\n",
    "    "
   ]
  },
  {
   "cell_type": "code",
   "execution_count": 33,
   "id": "ecb95d25",
   "metadata": {},
   "outputs": [],
   "source": [
    "import pandas as pd\n",
    "pd.merge?"
   ]
  },
  {
   "cell_type": "code",
   "execution_count": null,
   "id": "62abbda1",
   "metadata": {},
   "outputs": [],
   "source": [
    "pd.merge"
   ]
  }
 ],
 "metadata": {
  "kernelspec": {
   "display_name": "Python 3 (ipykernel)",
   "language": "python",
   "name": "python3"
  },
  "language_info": {
   "codemirror_mode": {
    "name": "ipython",
    "version": 3
   },
   "file_extension": ".py",
   "mimetype": "text/x-python",
   "name": "python",
   "nbconvert_exporter": "python",
   "pygments_lexer": "ipython3",
   "version": "3.10.9"
  }
 },
 "nbformat": 4,
 "nbformat_minor": 5
}

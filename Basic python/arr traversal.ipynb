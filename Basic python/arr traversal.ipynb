{
 "cells": [
  {
   "cell_type": "code",
   "execution_count": 26,
   "id": "5da04752",
   "metadata": {},
   "outputs": [
    {
     "data": {
      "text/plain": [
       "array([[0., 0., 0., 0., 0.],\n",
       "       [0., 0., 0., 0., 0.],\n",
       "       [0., 0., 0., 0., 0.],\n",
       "       [0., 0., 0., 0., 0.]])"
      ]
     },
     "execution_count": 26,
     "metadata": {},
     "output_type": "execute_result"
    }
   ],
   "source": [
    "import numpy as np\n",
    "arr = np.zeros(20).reshape(4,5)\n",
    "arr"
   ]
  },
  {
   "cell_type": "code",
   "execution_count": 27,
   "id": "6c3048c7",
   "metadata": {},
   "outputs": [
    {
     "data": {
      "text/plain": [
       "array([[0., 0., 0., 0., 0.],\n",
       "       [0., 0., 0., 0., 0.],\n",
       "       [0., 0., 0., 1., 0.],\n",
       "       [0., 0., 0., 0., 0.]])"
      ]
     },
     "execution_count": 27,
     "metadata": {},
     "output_type": "execute_result"
    }
   ],
   "source": [
    "arr[2,3]=1\n",
    "arr"
   ]
  },
  {
   "cell_type": "code",
   "execution_count": 50,
   "id": "e1773280",
   "metadata": {},
   "outputs": [
    {
     "name": "stdout",
     "output_type": "stream",
     "text": [
      "Shape (4, 5)\n",
      "[[0. 0. 0. 0. 0.]\n",
      " [0. 0. 0. 0. 0.]\n",
      " [0. 0. 0. 0. 0.]\n",
      " [0. 0. 0. 0. 0.]]\n",
      "Anticlockwise\n",
      "Travesing path [(3, 4), (2, 4), (1, 4), (0, 4), (0, 3), (0, 2), (0, 1), (0, 0), (1, 0), (2, 0), (3, 0), (3, 1), (3, 2), (3, 3), (2, 3), (1, 3), (1, 2), (1, 1), (2, 1), (2, 2)]\n",
      "[[1. 1. 1. 1. 1.]\n",
      " [1. 1. 1. 1. 1.]\n",
      " [1. 1. 1. 1. 1.]\n",
      " [1. 1. 1. 1. 1.]]\n"
     ]
    }
   ],
   "source": [
    "import numpy as np\n",
    "arr = np.zeros(20).reshape(4,5)\n",
    "trav = []\n",
    "\n",
    "print(\"Shape\",arr.shape)\n",
    "\n",
    "def modifyAdd(r,c):\n",
    "    arr[r][c] = 1\n",
    "    if ((r,c)) not in trav:\n",
    "        trav.append((r,c))\n",
    "\n",
    "def right(r,c):\n",
    "    modifyAdd(r,c)\n",
    "    if c+1<len(arr[r]):\n",
    "        if arr[r][c+1] == 0 :\n",
    "            return right(r,c+1)\n",
    "        else:\n",
    "            return (r,c)\n",
    "    else:\n",
    "        return (r,c)\n",
    "            \n",
    "        \n",
    "def down(r,c):\n",
    "    modifyAdd(r,c)\n",
    "    if r+1<len(arr):\n",
    "        if arr[r+1][c] == 0:\n",
    "            return down(r+1,c)\n",
    "        else:\n",
    "            return (r,c)\n",
    "    else:\n",
    "        return (r,c)\n",
    "    \n",
    "def left(r,c):\n",
    "    modifyAdd(r,c)\n",
    "    if c-1>=0:\n",
    "        if arr[r][c-1] == 0:\n",
    "            return left(r,c-1)\n",
    "        else:\n",
    "            return (r,c)\n",
    "    else:\n",
    "        return (r,c)\n",
    "            \n",
    "        \n",
    "def up(r,c):\n",
    "    modifyAdd(r,c)\n",
    "    if r-1>=0:\n",
    "        if arr[r-1][c] == 0:\n",
    "            return up(r-1,c)\n",
    "        else:\n",
    "            return (r,c)\n",
    "    else:\n",
    "        return (r,c)\n",
    "        \n",
    "def clockwise(n,m):\n",
    "    print(\"Clockwise\")\n",
    "    count = 0\n",
    "    while count <= len(arr):\n",
    "        n,m = right(n,m)\n",
    "        n,m = down(n,m)\n",
    "        n,m = left(n,m)\n",
    "        n,m = up(n,m)\n",
    "        count += 1\n",
    "    return (n,m)\n",
    "\n",
    "def anticlockwise(n,m):\n",
    "    print(\"Anticlockwise\")\n",
    "    count = 0\n",
    "    while count <= len(arr):\n",
    "        n,m = down(n,m)\n",
    "        n,m = right(n,m)\n",
    "        n,m = up(n,m)\n",
    "        n,m = left(n,m)\n",
    "        count += 1\n",
    "    return (n,m)\n",
    "                    \n",
    "\n",
    "print(arr)\n",
    "# n,m = clockwise(3,4)\n",
    "n,m = anticlockwise(3,4)\n",
    "print(\"Travesing path\",trav)\n",
    "print(arr)\n",
    "    \n",
    "    "
   ]
  },
  {
   "cell_type": "code",
   "execution_count": null,
   "id": "da983178",
   "metadata": {},
   "outputs": [],
   "source": []
  },
  {
   "cell_type": "code",
   "execution_count": null,
   "id": "c84c175a",
   "metadata": {},
   "outputs": [],
   "source": []
  },
  {
   "cell_type": "code",
   "execution_count": null,
   "id": "c50b8966",
   "metadata": {},
   "outputs": [],
   "source": []
  }
 ],
 "metadata": {
  "kernelspec": {
   "display_name": "Python 3 (ipykernel)",
   "language": "python",
   "name": "python3"
  },
  "language_info": {
   "codemirror_mode": {
    "name": "ipython",
    "version": 3
   },
   "file_extension": ".py",
   "mimetype": "text/x-python",
   "name": "python",
   "nbconvert_exporter": "python",
   "pygments_lexer": "ipython3",
   "version": "3.10.9"
  }
 },
 "nbformat": 4,
 "nbformat_minor": 5
}

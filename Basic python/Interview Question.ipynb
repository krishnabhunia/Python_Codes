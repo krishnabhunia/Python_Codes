{
 "cells": [
  {
   "cell_type": "raw",
   "id": "fc627b6f",
   "metadata": {},
   "source": [
    "# Create a class having a default constructor to initialize two data frames with data mentioned below\n",
    "\n",
    "id \tname\tgender \tmarks\n",
    "10\tAbhijit\tM\t20\n",
    "20\tNeha\tF\t40\n",
    "30\tRahul\tM\t60\n",
    "40\tSneha\tF\t80\n",
    "\n",
    "id \tname\tgender \tmarks\n",
    "10\tAbhijit\tM\t20\n",
    "20\tNeha\tF\t40\n",
    "50\tAmit\tM\t100\n",
    "60\tLaxmi\tF\t120\n",
    "\n",
    "perform merge operation using each function for inner and outer\n",
    "all variable considered must be private variables"
   ]
  },
  {
   "cell_type": "raw",
   "id": "78663ed6",
   "metadata": {},
   "source": [
    "pip install !pandas"
   ]
  },
  {
   "cell_type": "code",
   "execution_count": 1,
   "id": "da107e7d",
   "metadata": {},
   "outputs": [
    {
     "name": "stdout",
     "output_type": "stream",
     "text": [
      "   id     name  gender  marks\n",
      "0  10  Abhijit    male     20\n",
      "1  20     Neha  female     40\n",
      "2  30    Rahul    male     60\n",
      "3  40    Sneha  female     80\n",
      "   id     name  gender  marks\n",
      "0  10  Abhijit    male     20\n",
      "1  20     Neha  female     40\n",
      "2  50     Amit    male     60\n",
      "3  60    Laxmi  female     80\n",
      "   id   name_x gender_x  marks_x   name_y gender_y  marks_y\n",
      "0  10  Abhijit     male       20  Abhijit     male       20\n",
      "1  20     Neha   female       40     Neha   female       40\n",
      "   id   name_x gender_x  marks_x   name_y gender_y  marks_y\n",
      "0  10  Abhijit     male     20.0  Abhijit     male     20.0\n",
      "1  20     Neha   female     40.0     Neha   female     40.0\n",
      "2  30    Rahul     male     60.0      NaN      NaN      NaN\n",
      "3  40    Sneha   female     80.0      NaN      NaN      NaN\n",
      "4  50      NaN      NaN      NaN     Amit     male     60.0\n",
      "5  60      NaN      NaN      NaN    Laxmi   female     80.0\n"
     ]
    }
   ],
   "source": [
    "# Create a class having a default constructor to initialize two data frames with data mentioned below\n",
    "\n",
    "# id \tname\tgender \tmarks\n",
    "# 10\tAbhijit\tM\t20\n",
    "# 20\tNeha\tF\t40\n",
    "# 30\tRahul\tM\t60\n",
    "# 40\tSneha\tF\t80\n",
    "\n",
    "# id \tname\tgender \tmarks\n",
    "# 10\tAbhijit\tM\t20\n",
    "# 20\tNeha\tF\t40\n",
    "# 50\tAmit\tM\t100\n",
    "# 60\tLaxmi\tF\t120\n",
    "\n",
    "# perform merge operation using each function for inner and outer\n",
    "# all variable considered must be private variables\n",
    "\n",
    "import pandas as pd\n",
    "class Populate:\n",
    "    def __init__(self):\n",
    "        self.__df1 = pd.DataFrame({\n",
    "            \"id\":[10,20,30,40],\n",
    "            \"name\":[\"Abhijit\",\"Neha\",\"Rahul\",\"Sneha\"],\n",
    "            \"gender\":[\"male\",\"female\",\"male\",\"female\"],\n",
    "            \"marks\":[20,40,60,80]\n",
    "        })\n",
    "        \n",
    "        self.__df2 = pd.DataFrame({\n",
    "            \"id\":[10,20,50,60],\n",
    "            \"name\":[\"Abhijit\",\"Neha\",\"Amit\",\"Laxmi\"],\n",
    "            \"gender\":[\"male\",\"female\",\"male\",\"female\"],\n",
    "            \"marks\":[20,40,60,80]\n",
    "        })\n",
    "    \n",
    "    def merge_operation_inner(self):\n",
    "        self.__dfrmi = pd.merge(self.__df1,self.__df2,on='id')\n",
    "        \n",
    "    def merge_operation_outer(self):\n",
    "        self.__dfrmo = pd.merge(self.__df1,self.__df2,on='id',how=\"outer\")\n",
    "        \n",
    "    def display(self):\n",
    "        print(self.__df1)\n",
    "        print(self.__df2)\n",
    "        print(self.__dfrmi)\n",
    "        print(self.__dfrmo)\n",
    "        \n",
    "p = Populate()\n",
    "p.merge_operation_inner()\n",
    "p.merge_operation_outer()\n",
    "p.display()"
   ]
  },
  {
   "cell_type": "code",
   "execution_count": null,
   "id": "030dcbe9",
   "metadata": {},
   "outputs": [],
   "source": []
  }
 ],
 "metadata": {
  "kernelspec": {
   "display_name": "Python 3 (ipykernel)",
   "language": "python",
   "name": "python3"
  },
  "language_info": {
   "codemirror_mode": {
    "name": "ipython",
    "version": 3
   },
   "file_extension": ".py",
   "mimetype": "text/x-python",
   "name": "python",
   "nbconvert_exporter": "python",
   "pygments_lexer": "ipython3",
   "version": "3.10.9"
  }
 },
 "nbformat": 4,
 "nbformat_minor": 5
}

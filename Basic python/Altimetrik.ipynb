{
 "cells": [
  {
   "cell_type": "code",
   "execution_count": 17,
   "id": "37cb743b",
   "metadata": {},
   "outputs": [
    {
     "name": "stdout",
     "output_type": "stream",
     "text": [
      "[0, 0, 8, 0]\n"
     ]
    }
   ],
   "source": [
    "import math\n",
    "inp = [1,2,0,4]\n",
    "#out = [24,12,8,6]\n",
    "#out = [24,0,0,0]\n",
    "out = []\n",
    "test = []\n",
    "prod = math.prod(inp)\n",
    "# print(\"Prod\",prod)\n",
    "for i in range(1,len(inp)+1):\n",
    "    test.append(math.prod(inp[i:])*math.prod(inp[:i-1]))\n",
    "#     print(inp[i:],\"--\",inp[:i-1])\n",
    "print(test)\n"
   ]
  },
  {
   "cell_type": "code",
   "execution_count": 26,
   "id": "18954eb7",
   "metadata": {},
   "outputs": [
    {
     "name": "stdout",
     "output_type": "stream",
     "text": [
      "[0, 1, 2, 3, 4, 5, 6, 7, 8, 9, 10, 11]\n",
      "0 12 6 36\n"
     ]
    }
   ],
   "source": [
    "inp = 25\n",
    "r = list(range(inp//2))\n",
    "mid = len(r)//2\n",
    "print(r)\n",
    "# print(mid,r[mid])\n",
    "count = 1\n",
    "start = 0\n",
    "end = len(r)\n",
    "while count<10:\n",
    "    print(start,end,mid,p)\n",
    "    num = r[mid]\n",
    "    p = num*num\n",
    "\n",
    "    if inp-p<0:\n",
    "        end = mid\n",
    "    else:\n",
    "        start = mid\n",
    "    mid = (start + end)//2\n",
    "    \n",
    "    count += 10\n",
    "        \n"
   ]
  },
  {
   "cell_type": "code",
   "execution_count": 27,
   "id": "e956acc6",
   "metadata": {},
   "outputs": [
    {
     "name": "stdout",
     "output_type": "stream",
     "text": [
      "krishna\n",
      "time for execution 0.0\n"
     ]
    }
   ],
   "source": [
    "import time\n",
    "def outer(func):\n",
    "    def inner():\n",
    "        start = time.time()\n",
    "        func()\n",
    "        end = time.time()\n",
    "        print(\"time for execution\",(end-start))\n",
    "    return inner\n",
    "\n",
    "@outer\n",
    "def printname():\n",
    "    print(\"krishna\")\n",
    "\n",
    "printname()"
   ]
  },
  {
   "cell_type": "code",
   "execution_count": 29,
   "id": "af8cb136",
   "metadata": {},
   "outputs": [
    {
     "data": {
      "text/plain": [
       "100"
      ]
     },
     "execution_count": 29,
     "metadata": {},
     "output_type": "execute_result"
    }
   ],
   "source": [
    "class rectangle:\n",
    "    def __init__(self,l,b):\n",
    "        self.l = l\n",
    "        self.b = b\n",
    "    def area(self):\n",
    "        self.ar = self.l*self.b\n",
    "        return self.ar\n",
    "\n",
    "class square(rectangle):\n",
    "    def __init__(self,l):\n",
    "        super().__init__(l,l)\n",
    "        \n",
    "s = square(10)\n",
    "s.area()\n"
   ]
  },
  {
   "cell_type": "code",
   "execution_count": null,
   "id": "be3b12ea",
   "metadata": {},
   "outputs": [],
   "source": []
  },
  {
   "cell_type": "code",
   "execution_count": null,
   "id": "ed5df329",
   "metadata": {},
   "outputs": [],
   "source": []
  }
 ],
 "metadata": {
  "kernelspec": {
   "display_name": "Python 3 (ipykernel)",
   "language": "python",
   "name": "python3"
  },
  "language_info": {
   "codemirror_mode": {
    "name": "ipython",
    "version": 3
   },
   "file_extension": ".py",
   "mimetype": "text/x-python",
   "name": "python",
   "nbconvert_exporter": "python",
   "pygments_lexer": "ipython3",
   "version": "3.10.9"
  }
 },
 "nbformat": 4,
 "nbformat_minor": 5
}

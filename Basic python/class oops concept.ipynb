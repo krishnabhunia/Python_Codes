{
 "cells": [
  {
   "cell_type": "code",
   "execution_count": 2,
   "id": "169044a5",
   "metadata": {},
   "outputs": [
    {
     "name": "stdout",
     "output_type": "stream",
     "text": [
      "this is vehicle of type: this is bike\n"
     ]
    }
   ],
   "source": [
    "class automobile:\n",
    "    def __init__(self,tov):\n",
    "        #tov is type of vehicle\n",
    "        print(\"this is vehicle of type:\",tov)\n",
    "        \n",
    "class fourWheeler(automobile):\n",
    "    pass\n",
    "\n",
    "bike = fourWheeler(\"this is bike\")"
   ]
  },
  {
   "cell_type": "code",
   "execution_count": 13,
   "id": "eed57342",
   "metadata": {},
   "outputs": [
    {
     "name": "stdout",
     "output_type": "stream",
     "text": [
      "this is vehicle of type: this is hondacity\n",
      "this is fourwheeler of type: this is hondacity\n"
     ]
    }
   ],
   "source": [
    "class automobile:\n",
    "    def __init__(self,tov):\n",
    "        #tov is type of vehicle\n",
    "        print(\"this is vehicle of type:\",tov)\n",
    "        \n",
    "class fourWheeler(automobile):\n",
    "    def __init__(self,tov):\n",
    "        super().__init__(tov)\n",
    "        print(\"this is fourwheeler of type:\",tov)\n",
    "\n",
    "hondacity = fourWheeler(\"this is hondacity\")"
   ]
  },
  {
   "cell_type": "code",
   "execution_count": 37,
   "id": "73c10805",
   "metadata": {},
   "outputs": [
    {
     "name": "stdout",
     "output_type": "stream",
     "text": [
      "I am passenger name krishna\n",
      "krishna will travel by Honda Venue\n"
     ]
    }
   ],
   "source": [
    "class automobile:\n",
    "    def __init__(self,tov):\n",
    "        #tov is type of vehicle\n",
    "        print(\"this is vehicle of type:\",tov)\n",
    "        \n",
    "class fourWheeler(automobile):\n",
    "    def __init__(self,tov):\n",
    "        super().__init__(tov)\n",
    "        print(\"this is fourwheeler of type:\",tov)\n",
    "    \n",
    "class twoWheeler(automobile):\n",
    "    def __init__(self,tov):\n",
    "        super().__init__(tov)\n",
    "        print(\"this is two wheeler of type:\",tov)\n",
    "        \n",
    "class passenger(fourWheeler,twoWheeler):\n",
    "    def __init__(self,name):\n",
    "        self.name = name\n",
    "        print(\"I am passenger name\",name)\n",
    "        \n",
    "    def travel(self,automobiletype):\n",
    "        self.automobile = automobiletype\n",
    "        print(self.name, \"will travel by\", self.automobile)\n",
    "        \n",
    "\n",
    "krishna = passenger(\"krishna\")\n",
    "krishna.travel(\"Honda Venue\")\n"
   ]
  },
  {
   "cell_type": "code",
   "execution_count": 74,
   "id": "76ab429c",
   "metadata": {},
   "outputs": [
    {
     "name": "stdout",
     "output_type": "stream",
     "text": [
      "this is child class\n"
     ]
    }
   ],
   "source": [
    "#private variable\n",
    "class parent():\n",
    "    def __init__(self):\n",
    "        print(\"this is parent class\")\n",
    "    \n",
    "class child(parent):\n",
    "    __havetoys = \"Yes\"\n",
    "    \n",
    "    def setToyStatus(self,booltoys):\n",
    "        self.__havetoys = booltoys\n",
    "        \n",
    "    def getToyStatus(self):\n",
    "        return self.__havetoys\n",
    "\n",
    "    @classmethod\n",
    "    def getToyStatusClass(cls):\n",
    "        return cls.__havetoys\n",
    "    \n",
    "    @classmethod\n",
    "    def setToyStatusClass(cls,booltoys):\n",
    "        cls.__havetoys = booltoys\n",
    "        \n",
    "    def __init__(self):\n",
    "        print(\"this is child class\")\n",
    "        \n",
    "kri = child()"
   ]
  },
  {
   "cell_type": "code",
   "execution_count": 75,
   "id": "b5c39780",
   "metadata": {},
   "outputs": [
    {
     "data": {
      "text/plain": [
       "'Yes'"
      ]
     },
     "execution_count": 75,
     "metadata": {},
     "output_type": "execute_result"
    }
   ],
   "source": [
    "child.getToyStatusClass()\n"
   ]
  },
  {
   "cell_type": "code",
   "execution_count": 76,
   "id": "abc6daf1",
   "metadata": {},
   "outputs": [],
   "source": [
    "kri.setToyStatus(\"no\")\n"
   ]
  },
  {
   "cell_type": "code",
   "execution_count": 77,
   "id": "7a746f78",
   "metadata": {},
   "outputs": [
    {
     "data": {
      "text/plain": [
       "'no'"
      ]
     },
     "execution_count": 77,
     "metadata": {},
     "output_type": "execute_result"
    }
   ],
   "source": [
    "kri.getToyStatus()\n"
   ]
  },
  {
   "cell_type": "code",
   "execution_count": 78,
   "id": "50584ef9",
   "metadata": {},
   "outputs": [
    {
     "data": {
      "text/plain": [
       "'Yes'"
      ]
     },
     "execution_count": 78,
     "metadata": {},
     "output_type": "execute_result"
    }
   ],
   "source": [
    "child.getToyStatusClass()"
   ]
  },
  {
   "cell_type": "code",
   "execution_count": 79,
   "id": "34e83de7",
   "metadata": {},
   "outputs": [],
   "source": [
    "child.setToyStatusClass(\"NO\")"
   ]
  },
  {
   "cell_type": "code",
   "execution_count": 80,
   "id": "0ae46e87",
   "metadata": {},
   "outputs": [
    {
     "data": {
      "text/plain": [
       "'NO'"
      ]
     },
     "execution_count": 80,
     "metadata": {},
     "output_type": "execute_result"
    }
   ],
   "source": [
    "child.getToyStatusClass()"
   ]
  },
  {
   "cell_type": "code",
   "execution_count": 47,
   "id": "93b8b184",
   "metadata": {},
   "outputs": [
    {
     "data": {
      "text/plain": [
       "['__class__',\n",
       " '__delattr__',\n",
       " '__dict__',\n",
       " '__dir__',\n",
       " '__doc__',\n",
       " '__eq__',\n",
       " '__format__',\n",
       " '__ge__',\n",
       " '__getattribute__',\n",
       " '__gt__',\n",
       " '__hash__',\n",
       " '__init__',\n",
       " '__init_subclass__',\n",
       " '__le__',\n",
       " '__lt__',\n",
       " '__module__',\n",
       " '__ne__',\n",
       " '__new__',\n",
       " '__reduce__',\n",
       " '__reduce_ex__',\n",
       " '__repr__',\n",
       " '__setattr__',\n",
       " '__sizeof__',\n",
       " '__str__',\n",
       " '__subclasshook__',\n",
       " '__weakref__']"
      ]
     },
     "execution_count": 47,
     "metadata": {},
     "output_type": "execute_result"
    }
   ],
   "source": [
    "dir(parent)"
   ]
  },
  {
   "cell_type": "code",
   "execution_count": 48,
   "id": "50ded47c",
   "metadata": {},
   "outputs": [
    {
     "data": {
      "text/plain": [
       "['__class__',\n",
       " '__delattr__',\n",
       " '__dict__',\n",
       " '__dir__',\n",
       " '__doc__',\n",
       " '__eq__',\n",
       " '__format__',\n",
       " '__ge__',\n",
       " '__getattribute__',\n",
       " '__gt__',\n",
       " '__hash__',\n",
       " '__init__',\n",
       " '__init_subclass__',\n",
       " '__le__',\n",
       " '__lt__',\n",
       " '__module__',\n",
       " '__ne__',\n",
       " '__new__',\n",
       " '__reduce__',\n",
       " '__reduce_ex__',\n",
       " '__repr__',\n",
       " '__setattr__',\n",
       " '__sizeof__',\n",
       " '__str__',\n",
       " '__subclasshook__',\n",
       " '__weakref__',\n",
       " '_child__havetoys']"
      ]
     },
     "execution_count": 48,
     "metadata": {},
     "output_type": "execute_result"
    }
   ],
   "source": [
    "dir(child)"
   ]
  },
  {
   "cell_type": "code",
   "execution_count": 83,
   "id": "8b922333",
   "metadata": {},
   "outputs": [
    {
     "name": "stdout",
     "output_type": "stream",
     "text": [
      "Current amount ->  10,000\n",
      "10,000\n"
     ]
    }
   ],
   "source": [
    "class SavingAccount:\n",
    "    def __init__(self, amount):\n",
    "        # making the 'amount' variable private\n",
    "        self.__amount = amount\n",
    "\n",
    "    # method to display the amount\n",
    "    def getAmount(self):\n",
    "        print(\"Current amount -> \", self.__amount)\n",
    "\n",
    "user = SavingAccount('10,000')\n",
    "user.getAmount()\n",
    "print(user._SavingAccount__amount)\n"
   ]
  },
  {
   "cell_type": "code",
   "execution_count": null,
   "id": "af83f88e",
   "metadata": {},
   "outputs": [],
   "source": []
  }
 ],
 "metadata": {
  "kernelspec": {
   "display_name": "Python 3 (ipykernel)",
   "language": "python",
   "name": "python3"
  },
  "language_info": {
   "codemirror_mode": {
    "name": "ipython",
    "version": 3
   },
   "file_extension": ".py",
   "mimetype": "text/x-python",
   "name": "python",
   "nbconvert_exporter": "python",
   "pygments_lexer": "ipython3",
   "version": "3.10.9"
  }
 },
 "nbformat": 4,
 "nbformat_minor": 5
}

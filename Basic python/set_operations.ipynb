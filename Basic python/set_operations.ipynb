{
 "cells": [
  {
   "cell_type": "code",
   "execution_count": 36,
   "id": "160d2b4d",
   "metadata": {},
   "outputs": [],
   "source": [
    "al = set([1,2,3,4,5,6,7,8,9,10])\n",
    "al = set([1,2,3,4,5,6,7,8,9,10])\n",
    "cl = set([1,2,3,4])\n",
    "dl = set([7,8,9,10])\n"
   ]
  },
  {
   "cell_type": "code",
   "execution_count": 30,
   "id": "ce9dd9f6",
   "metadata": {},
   "outputs": [
    {
     "name": "stdout",
     "output_type": "stream",
     "text": [
      "{1, 2, 3, 4, 5, 6, 7, 8, 9, 10} {5, 6, 7, 8, 9, 10, 11, 12, 13, 14, 15}\n",
      "{1, 2, 3, 4}\n"
     ]
    }
   ],
   "source": [
    "a = set(al)\n",
    "b = set(bl)\n",
    "c = a.difference(b)\n",
    "print(a,b)\n",
    "print(c)"
   ]
  },
  {
   "cell_type": "code",
   "execution_count": 31,
   "id": "8ac3efb0",
   "metadata": {},
   "outputs": [
    {
     "name": "stdout",
     "output_type": "stream",
     "text": [
      "{1, 2, 3, 4, 5, 6, 7, 8, 9, 10} {5, 6, 7, 8, 9, 10, 11, 12, 13, 14, 15}\n",
      "{11, 12, 13, 14, 15}\n"
     ]
    }
   ],
   "source": [
    "a = set(al)\n",
    "b = set(bl)\n",
    "d = b.difference(a)\n",
    "print(a,b)\n",
    "print(d)"
   ]
  },
  {
   "cell_type": "code",
   "execution_count": 32,
   "id": "d4b85b45",
   "metadata": {},
   "outputs": [
    {
     "name": "stdout",
     "output_type": "stream",
     "text": [
      "{1, 2, 3, 4, 5, 6, 7, 8, 9, 10} {5, 6, 7, 8, 9, 10, 11, 12, 13, 14, 15}\n",
      "{1, 2, 3, 4} {5, 6, 7, 8, 9, 10, 11, 12, 13, 14, 15}\n",
      "None\n"
     ]
    }
   ],
   "source": [
    "a = set(al)\n",
    "b = set(bl)\n",
    "print(a,b)\n",
    "e = a.difference_update(b)\n",
    "print(a,b)\n",
    "print(e)"
   ]
  },
  {
   "cell_type": "code",
   "execution_count": 33,
   "id": "08709af5",
   "metadata": {},
   "outputs": [
    {
     "name": "stdout",
     "output_type": "stream",
     "text": [
      "{1, 2, 3, 4, 5, 6, 7, 8, 9, 10} {5, 6, 7, 8, 9, 10, 11, 12, 13, 14, 15}\n",
      "{1, 2, 3, 4, 5, 6, 7, 8, 9, 10} {11, 12, 13, 14, 15}\n",
      "None\n"
     ]
    }
   ],
   "source": [
    "a = set(al)\n",
    "b = set(bl)\n",
    "print(a,b)\n",
    "e = b.difference_update(a)\n",
    "print(a,b)\n",
    "print(e)"
   ]
  },
  {
   "cell_type": "code",
   "execution_count": 34,
   "id": "d9a7bbc1",
   "metadata": {},
   "outputs": [
    {
     "name": "stdout",
     "output_type": "stream",
     "text": [
      "{1, 2, 3, 4, 5, 6, 7, 8, 9, 10} {5, 6, 7, 8, 9, 10, 11, 12, 13, 14, 15}\n",
      "{1, 2, 3, 4, 5, 6, 7, 8, 9, 10} {5, 6, 7, 8, 9, 10, 11, 12, 13, 14, 15}\n",
      "False\n"
     ]
    }
   ],
   "source": [
    "a = set(al)\n",
    "b = set(bl)\n",
    "print(a,b)\n",
    "f = b.isdisjoint(a)\n",
    "print(a,b)\n",
    "print(f)"
   ]
  },
  {
   "cell_type": "code",
   "execution_count": 37,
   "id": "c424aef3",
   "metadata": {},
   "outputs": [
    {
     "name": "stdout",
     "output_type": "stream",
     "text": [
      "{1, 2, 3, 4} {8, 9, 10, 7}\n",
      "{1, 2, 3, 4} {8, 9, 10, 7}\n",
      "True\n"
     ]
    }
   ],
   "source": [
    "a = set(cl)\n",
    "b = set(dl)\n",
    "print(a,b)\n",
    "f = b.isdisjoint(a)\n",
    "print(a,b)\n",
    "print(f)"
   ]
  },
  {
   "cell_type": "code",
   "execution_count": 38,
   "id": "c643e3d8",
   "metadata": {},
   "outputs": [
    {
     "name": "stdout",
     "output_type": "stream",
     "text": [
      "{1, 2, 3, 4, 5, 6, 7, 8, 9, 10} {5, 6, 7, 8, 9, 10, 11, 12, 13, 14, 15}\n",
      "{1, 2, 3, 4, 5, 6, 7, 8, 9, 10} {5, 6, 7, 8, 9, 10, 11, 12, 13, 14, 15}\n",
      "{1, 2, 3, 4, 11, 12, 13, 14, 15}\n"
     ]
    }
   ],
   "source": [
    "a = set(al)\n",
    "b = set(bl)\n",
    "print(a,b)\n",
    "f = b.symmetric_difference(a)\n",
    "print(a,b)\n",
    "print(f)"
   ]
  },
  {
   "cell_type": "code",
   "execution_count": 39,
   "id": "3ae21d2d",
   "metadata": {},
   "outputs": [
    {
     "name": "stdout",
     "output_type": "stream",
     "text": [
      "{1, 2, 3, 4, 5, 6, 7, 8, 9, 10} {5, 6, 7, 8, 9, 10, 11, 12, 13, 14, 15}\n",
      "{1, 2, 3, 4, 5, 6, 7, 8, 9, 10} {5, 6, 7, 8, 9, 10, 11, 12, 13, 14, 15}\n",
      "{1, 2, 3, 4, 11, 12, 13, 14, 15}\n"
     ]
    }
   ],
   "source": [
    "a = set(al)\n",
    "b = set(bl)\n",
    "print(a,b)\n",
    "f = a.symmetric_difference(b)\n",
    "print(a,b)\n",
    "print(f)"
   ]
  },
  {
   "cell_type": "code",
   "execution_count": 40,
   "id": "178ac143",
   "metadata": {},
   "outputs": [
    {
     "name": "stdout",
     "output_type": "stream",
     "text": [
      "{1, 2, 3, 4, 5, 6, 7, 8, 9, 10} {5, 6, 7, 8, 9, 10, 11, 12, 13, 14, 15}\n",
      "{1, 2, 3, 4, 11, 12, 13, 14, 15} {5, 6, 7, 8, 9, 10, 11, 12, 13, 14, 15}\n",
      "None\n"
     ]
    }
   ],
   "source": [
    "a = set(al)\n",
    "b = set(bl)\n",
    "print(a,b)\n",
    "f = a.symmetric_difference_update(b)\n",
    "print(a,b)\n",
    "print(f)"
   ]
  },
  {
   "cell_type": "code",
   "execution_count": 41,
   "id": "88c05e01",
   "metadata": {},
   "outputs": [
    {
     "name": "stdout",
     "output_type": "stream",
     "text": [
      "{1, 2, 3, 4} {8, 9, 10, 7}\n",
      "{1, 2, 3, 4} {1, 2, 3, 4, 7, 8, 9, 10}\n",
      "None\n"
     ]
    }
   ],
   "source": [
    "a = set(cl)\n",
    "b = set(dl)\n",
    "print(a,b)\n",
    "f = b.symmetric_difference_update(a)\n",
    "print(a,b)\n",
    "print(f)"
   ]
  },
  {
   "cell_type": "code",
   "execution_count": null,
   "id": "88b47749",
   "metadata": {},
   "outputs": [],
   "source": []
  }
 ],
 "metadata": {
  "kernelspec": {
   "display_name": "Python 3 (ipykernel)",
   "language": "python",
   "name": "python3"
  },
  "language_info": {
   "codemirror_mode": {
    "name": "ipython",
    "version": 3
   },
   "file_extension": ".py",
   "mimetype": "text/x-python",
   "name": "python",
   "nbconvert_exporter": "python",
   "pygments_lexer": "ipython3",
   "version": "3.10.9"
  }
 },
 "nbformat": 4,
 "nbformat_minor": 5
}

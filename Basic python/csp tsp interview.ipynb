{
 "cells": [
  {
   "cell_type": "code",
   "execution_count": 1,
   "id": "8a38a2fd",
   "metadata": {},
   "outputs": [
    {
     "data": {
      "text/html": [
       "<div>\n",
       "<style scoped>\n",
       "    .dataframe tbody tr th:only-of-type {\n",
       "        vertical-align: middle;\n",
       "    }\n",
       "\n",
       "    .dataframe tbody tr th {\n",
       "        vertical-align: top;\n",
       "    }\n",
       "\n",
       "    .dataframe thead th {\n",
       "        text-align: right;\n",
       "    }\n",
       "</style>\n",
       "<table border=\"1\" class=\"dataframe\">\n",
       "  <thead>\n",
       "    <tr style=\"text-align: right;\">\n",
       "      <th></th>\n",
       "      <th>id</th>\n",
       "      <th>name</th>\n",
       "      <th>age</th>\n",
       "    </tr>\n",
       "  </thead>\n",
       "  <tbody>\n",
       "    <tr>\n",
       "      <th>0</th>\n",
       "      <td>1</td>\n",
       "      <td>k</td>\n",
       "      <td>10</td>\n",
       "    </tr>\n",
       "    <tr>\n",
       "      <th>1</th>\n",
       "      <td>2</td>\n",
       "      <td>d</td>\n",
       "      <td>20</td>\n",
       "    </tr>\n",
       "    <tr>\n",
       "      <th>2</th>\n",
       "      <td>3</td>\n",
       "      <td>b</td>\n",
       "      <td>30</td>\n",
       "    </tr>\n",
       "  </tbody>\n",
       "</table>\n",
       "</div>"
      ],
      "text/plain": [
       "   id name  age\n",
       "0   1    k   10\n",
       "1   2    d   20\n",
       "2   3    b   30"
      ]
     },
     "execution_count": 1,
     "metadata": {},
     "output_type": "execute_result"
    }
   ],
   "source": [
    "import pandas as pd\n",
    "df1 = pd.DataFrame({\"id\":[1,2,3],\n",
    "                   \"name\":[\"k\",\"d\",\"b\"],\n",
    "                   \"age\":[10,20,30]})\n",
    "df1"
   ]
  },
  {
   "cell_type": "code",
   "execution_count": 2,
   "id": "62863f8a",
   "metadata": {},
   "outputs": [
    {
     "data": {
      "text/html": [
       "<div>\n",
       "<style scoped>\n",
       "    .dataframe tbody tr th:only-of-type {\n",
       "        vertical-align: middle;\n",
       "    }\n",
       "\n",
       "    .dataframe tbody tr th {\n",
       "        vertical-align: top;\n",
       "    }\n",
       "\n",
       "    .dataframe thead th {\n",
       "        text-align: right;\n",
       "    }\n",
       "</style>\n",
       "<table border=\"1\" class=\"dataframe\">\n",
       "  <thead>\n",
       "    <tr style=\"text-align: right;\">\n",
       "      <th></th>\n",
       "      <th>id</th>\n",
       "      <th>qualification</th>\n",
       "    </tr>\n",
       "  </thead>\n",
       "  <tbody>\n",
       "    <tr>\n",
       "      <th>0</th>\n",
       "      <td>4</td>\n",
       "      <td>k</td>\n",
       "    </tr>\n",
       "    <tr>\n",
       "      <th>1</th>\n",
       "      <td>2</td>\n",
       "      <td>d</td>\n",
       "    </tr>\n",
       "    <tr>\n",
       "      <th>2</th>\n",
       "      <td>5</td>\n",
       "      <td>b</td>\n",
       "    </tr>\n",
       "  </tbody>\n",
       "</table>\n",
       "</div>"
      ],
      "text/plain": [
       "   id qualification\n",
       "0   4             k\n",
       "1   2             d\n",
       "2   5             b"
      ]
     },
     "execution_count": 2,
     "metadata": {},
     "output_type": "execute_result"
    }
   ],
   "source": [
    "df2 = pd.DataFrame({\"id\":[4,2,5],\n",
    "                   \"qualification\":[\"k\",\"d\",\"b\"]})\n",
    "df2"
   ]
  },
  {
   "cell_type": "code",
   "execution_count": 29,
   "id": "edb69f3d",
   "metadata": {},
   "outputs": [
    {
     "name": "stdout",
     "output_type": "stream",
     "text": [
      "   id name  age qualification\n",
      "0   2    d   20             d processing\n",
      "None\n"
     ]
    }
   ],
   "source": [
    "class process:    \n",
    "    def __init__(self,d1,d2):\n",
    "        self.__pd1 = d1\n",
    "        self.__pd2 = d2\n",
    "        \n",
    "    def processData(self,col_name):\n",
    "        try:\n",
    "            if col_name not in self.__pd1.columns and col_name not in self.__pd2.columns:\n",
    "                print(f\"Either the dataframes doesn't have column name {col_name}\")\n",
    "                return\n",
    "            self.__pd3 = self.__pd1.merge(self.__pd2,on=col_name)\n",
    "            print(self.__pd3,\"processing\")\n",
    "            self.__pd3[\"Status\"] = \"Even\" if ((self.__pd3[\"age\"]>=15) and (self.__pd3[\"age\"]<=30)) else \"Odd\"\n",
    "            print(self.__pd3,\"processing\")            \n",
    "        except:\n",
    "            return\n",
    "        return self.__pd3\n",
    "        \n",
    "        \n",
    "p = process(df1,df2)\n",
    "print(p.processData(\"id\"))"
   ]
  },
  {
   "cell_type": "code",
   "execution_count": null,
   "id": "e83758df",
   "metadata": {},
   "outputs": [],
   "source": [
    "class process:\n",
    "    \n",
    "    __pvtclassvar = \"private class variable abc\" # private class variable\n",
    "    pvtclassvar = \"public class varible 123\" # public class varible\n",
    "    _pvtclassvar = \"protected class variable xyz\" # protected class variable\n",
    "    \n",
    "    def __init__(self,d1,d2):\n",
    "        self.__pd1 = d1\n",
    "        self.__pd2 = d2\n",
    "        \n",
    "        self.__pvtinstvar = \"\" # private instance variable\n",
    "        self.pvtinstvar = \"\" # public instance varible\n",
    "        self._pvtinstvar = \"\" # protected instance variable\n",
    "        \n",
    "    def processData(self,col_name):\n",
    "        try:\n",
    "            if col_name not in self.__pd1.columns and col_name not in self.__pd2.columns:\n",
    "                print(f\"Either the dataframes doesn't have column name {col_name}\")\n",
    "                return\n",
    "            self.__pd3 = self.__pd1.merge(self.__pd2,on=col_name)\n",
    "            print(self.__pd3,\"processing\")\n",
    "#             self.__pd3[\"Status\"] = 'OK'\n",
    "            self.__pd3[\"Status\"] = \"Even\" if ((self.__pd3[\"age\"]>=15) and (self.__pd3[\"age\"]<=30)) else \"Odd\"\n",
    "            print(self.__pd3,\"processing\")\n",
    "            # self.__pd3 = self.__pd3[(self.__pd3[\"age\"]>=15) & (self.__pd3[\"age\"]<=30)]\n",
    "            \n",
    "        except:\n",
    "            return\n",
    "        return self.__pd3\n",
    "        \n",
    "        \n",
    "p = process(df1,df2)\n",
    "print(p.processData(\"id\"))\n",
    "# print(p.processData(\"id1\"))"
   ]
  },
  {
   "cell_type": "code",
   "execution_count": 44,
   "id": "5fdfbb62",
   "metadata": {},
   "outputs": [
    {
     "data": {
      "text/html": [
       "<div>\n",
       "<style scoped>\n",
       "    .dataframe tbody tr th:only-of-type {\n",
       "        vertical-align: middle;\n",
       "    }\n",
       "\n",
       "    .dataframe tbody tr th {\n",
       "        vertical-align: top;\n",
       "    }\n",
       "\n",
       "    .dataframe thead th {\n",
       "        text-align: right;\n",
       "    }\n",
       "</style>\n",
       "<table border=\"1\" class=\"dataframe\">\n",
       "  <thead>\n",
       "    <tr style=\"text-align: right;\">\n",
       "      <th></th>\n",
       "      <th>id</th>\n",
       "      <th>qualification</th>\n",
       "      <th>name</th>\n",
       "      <th>age</th>\n",
       "    </tr>\n",
       "  </thead>\n",
       "  <tbody>\n",
       "    <tr>\n",
       "      <th>0</th>\n",
       "      <td>2</td>\n",
       "      <td>d</td>\n",
       "      <td>d</td>\n",
       "      <td>20</td>\n",
       "    </tr>\n",
       "  </tbody>\n",
       "</table>\n",
       "</div>"
      ],
      "text/plain": [
       "   id qualification name  age\n",
       "0   2             d    d   20"
      ]
     },
     "execution_count": 44,
     "metadata": {},
     "output_type": "execute_result"
    }
   ],
   "source": [
    "df3 = df2.merge(df1,on=\"id\")\n",
    "df3\n"
   ]
  },
  {
   "cell_type": "code",
   "execution_count": 45,
   "id": "47b5dc89",
   "metadata": {},
   "outputs": [
    {
     "data": {
      "text/html": [
       "<div>\n",
       "<style scoped>\n",
       "    .dataframe tbody tr th:only-of-type {\n",
       "        vertical-align: middle;\n",
       "    }\n",
       "\n",
       "    .dataframe tbody tr th {\n",
       "        vertical-align: top;\n",
       "    }\n",
       "\n",
       "    .dataframe thead th {\n",
       "        text-align: right;\n",
       "    }\n",
       "</style>\n",
       "<table border=\"1\" class=\"dataframe\">\n",
       "  <thead>\n",
       "    <tr style=\"text-align: right;\">\n",
       "      <th></th>\n",
       "      <th>id</th>\n",
       "      <th>qualification</th>\n",
       "      <th>name</th>\n",
       "      <th>age</th>\n",
       "      <th>status</th>\n",
       "    </tr>\n",
       "  </thead>\n",
       "  <tbody>\n",
       "    <tr>\n",
       "      <th>0</th>\n",
       "      <td>2</td>\n",
       "      <td>d</td>\n",
       "      <td>d</td>\n",
       "      <td>20</td>\n",
       "      <td>Even</td>\n",
       "    </tr>\n",
       "  </tbody>\n",
       "</table>\n",
       "</div>"
      ],
      "text/plain": [
       "   id qualification name  age status\n",
       "0   2             d    d   20   Even"
      ]
     },
     "execution_count": 45,
     "metadata": {},
     "output_type": "execute_result"
    }
   ],
   "source": [
    "df3[\"status\"] = \"Even\"\n",
    "df3"
   ]
  },
  {
   "cell_type": "code",
   "execution_count": 15,
   "id": "6849194f",
   "metadata": {},
   "outputs": [
    {
     "data": {
      "text/plain": [
       "['__class__',\n",
       " '__delattr__',\n",
       " '__dict__',\n",
       " '__dir__',\n",
       " '__doc__',\n",
       " '__eq__',\n",
       " '__format__',\n",
       " '__ge__',\n",
       " '__getattribute__',\n",
       " '__gt__',\n",
       " '__hash__',\n",
       " '__init__',\n",
       " '__init_subclass__',\n",
       " '__le__',\n",
       " '__lt__',\n",
       " '__module__',\n",
       " '__ne__',\n",
       " '__new__',\n",
       " '__reduce__',\n",
       " '__reduce_ex__',\n",
       " '__repr__',\n",
       " '__setattr__',\n",
       " '__sizeof__',\n",
       " '__str__',\n",
       " '__subclasshook__',\n",
       " '__weakref__',\n",
       " '_process__pd1',\n",
       " '_process__pd2',\n",
       " '_process__pvtclassvar',\n",
       " '_process__pvtinstvar',\n",
       " '_pvtclassvar',\n",
       " '_pvtinstvar',\n",
       " 'processData',\n",
       " 'pvtclassvar',\n",
       " 'pvtinstvar']"
      ]
     },
     "execution_count": 15,
     "metadata": {},
     "output_type": "execute_result"
    }
   ],
   "source": [
    "p1 = process(df1,df2)\n",
    "dir(p1)\n"
   ]
  },
  {
   "cell_type": "code",
   "execution_count": 16,
   "id": "6723c1f4",
   "metadata": {},
   "outputs": [
    {
     "data": {
      "text/plain": [
       "['__class__',\n",
       " '__delattr__',\n",
       " '__dict__',\n",
       " '__dir__',\n",
       " '__doc__',\n",
       " '__eq__',\n",
       " '__format__',\n",
       " '__ge__',\n",
       " '__getattribute__',\n",
       " '__gt__',\n",
       " '__hash__',\n",
       " '__init__',\n",
       " '__init_subclass__',\n",
       " '__le__',\n",
       " '__lt__',\n",
       " '__module__',\n",
       " '__ne__',\n",
       " '__new__',\n",
       " '__reduce__',\n",
       " '__reduce_ex__',\n",
       " '__repr__',\n",
       " '__setattr__',\n",
       " '__sizeof__',\n",
       " '__str__',\n",
       " '__subclasshook__',\n",
       " '__weakref__',\n",
       " '_process__pvtclassvar',\n",
       " '_pvtclassvar',\n",
       " 'processData',\n",
       " 'pvtclassvar']"
      ]
     },
     "execution_count": 16,
     "metadata": {},
     "output_type": "execute_result"
    }
   ],
   "source": [
    "dir(process)"
   ]
  },
  {
   "cell_type": "code",
   "execution_count": 30,
   "id": "3d681250",
   "metadata": {},
   "outputs": [
    {
     "name": "stdout",
     "output_type": "stream",
     "text": [
      "private class variable abc\n",
      "protected class variable xyz\n",
      "public class varible 123\n"
     ]
    }
   ],
   "source": [
    "# mangling - concept to access private (both class and instance) variable outside the class\n",
    "# against PEP\n",
    "print(process._process__pvtclassvar)\n",
    "print(process._pvtclassvar)\n",
    "print(process.pvtclassvar)"
   ]
  },
  {
   "cell_type": "code",
   "execution_count": 37,
   "id": "445f4037",
   "metadata": {},
   "outputs": [
    {
     "name": "stdout",
     "output_type": "stream",
     "text": [
      "private class variable abc\n",
      "protected class variable xyz\n",
      "private class variable abc\n",
      "protected class variable xyz\n"
     ]
    }
   ],
   "source": [
    "class a:\n",
    "    # process private access - always mangling\n",
    "    # protected variable can never be mangled\n",
    "    def __init__(self):\n",
    "        print(process._process__pvtclassvar)\n",
    "        print(process._pvtclassvar)\n",
    "    \n",
    "class b(process):\n",
    "    # process private access - always mangling\n",
    "    def __init__(self):\n",
    "        print(process._process__pvtclassvar)\n",
    "        print(process._pvtclassvar)\n",
    "\n",
    "A = a()\n",
    "B = b()\n",
    "\n"
   ]
  },
  {
   "cell_type": "code",
   "execution_count": null,
   "id": "0c225887",
   "metadata": {},
   "outputs": [],
   "source": []
  }
 ],
 "metadata": {
  "kernelspec": {
   "display_name": "Python 3 (ipykernel)",
   "language": "python",
   "name": "python3"
  },
  "language_info": {
   "codemirror_mode": {
    "name": "ipython",
    "version": 3
   },
   "file_extension": ".py",
   "mimetype": "text/x-python",
   "name": "python",
   "nbconvert_exporter": "python",
   "pygments_lexer": "ipython3",
   "version": "3.10.9"
  }
 },
 "nbformat": 4,
 "nbformat_minor": 5
}

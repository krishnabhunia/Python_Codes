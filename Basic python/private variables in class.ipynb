{
 "cells": [
  {
   "cell_type": "code",
   "execution_count": 13,
   "id": "64c926e2",
   "metadata": {},
   "outputs": [
    {
     "data": {
      "text/plain": [
       "3"
      ]
     },
     "execution_count": 13,
     "metadata": {},
     "output_type": "execute_result"
    }
   ],
   "source": [
    "# priavte varible access\n",
    "\n",
    "class employee:\n",
    "    \n",
    "    __pvtCnt = 0\n",
    "    \n",
    "    def __init__(self,name):\n",
    "        employee.setCnt()\n",
    "        \n",
    "    @classmethod\n",
    "    def getNameC(cls):\n",
    "        return cls.__pvtname\n",
    "    \n",
    "    @classmethod\n",
    "    def setNameC(cls,name):\n",
    "        cls.__pvtname = name\n",
    "        \n",
    "    @classmethod\n",
    "    def getCnt(cls):\n",
    "        return cls.__pvtCnt\n",
    "    \n",
    "    @classmethod\n",
    "    def setCnt(cls):\n",
    "        cls.__pvtCnt = cls.__pvtCnt + 1\n",
    "    \n",
    "kri = employee(\"krishna\")\n",
    "k1 = employee(\"abc\")\n",
    "k11 = employee(\"abc1\")\n",
    "employee.getCnt()\n"
   ]
  },
  {
   "cell_type": "code",
   "execution_count": 15,
   "id": "bd954190",
   "metadata": {},
   "outputs": [],
   "source": [
    "class MyClass:\n",
    "    def __init__(self):\n",
    "        self.public_var = \"I'm a public variable\"\n",
    "        self.__private_var = \"I'm a private variable\"\n",
    "\n",
    "    def get_private_var(self):\n",
    "        return self.__private_var\n",
    "\n",
    "    def set_private_var(self, value):\n",
    "        self.__private_var = value\n"
   ]
  },
  {
   "cell_type": "code",
   "execution_count": 16,
   "id": "39a8e999",
   "metadata": {},
   "outputs": [
    {
     "name": "stdout",
     "output_type": "stream",
     "text": [
      "I'm a public variable\n",
      "I'm a private variable\n",
      "I'm a private variable\n",
      "New value\n"
     ]
    }
   ],
   "source": [
    "obj = MyClass()\n",
    "print(obj.public_var)               # Output: I'm a public variable\n",
    "print(obj.get_private_var())        # Output: I'm a private variable\n",
    "\n",
    "obj.__private_var = \"New value\"     # This does not modify the private variable\n",
    "print(obj.get_private_var())        # Output: I'm a private variable\n",
    "\n",
    "obj.set_private_var(\"New value\")   # This sets a new value for the private variable\n",
    "print(obj.get_private_var())        # Output: New value\n"
   ]
  },
  {
   "cell_type": "code",
   "execution_count": 23,
   "id": "62cb9da8",
   "metadata": {},
   "outputs": [
    {
     "data": {
      "text/plain": [
       "'krishna dipayan bhunia'"
      ]
     },
     "execution_count": 23,
     "metadata": {},
     "output_type": "execute_result"
    }
   ],
   "source": [
    "# priavte varible access\n",
    "\n",
    "class employee:\n",
    "    def __init__(self,name):\n",
    "        self.__pvtname = name\n",
    "\n",
    "    def getName(self):\n",
    "        return self.__pvtname\n",
    "\n",
    "    def setName(self,name):\n",
    "        self.__pvtname = name\n",
    "\n"
   ]
  },
  {
   "cell_type": "code",
   "execution_count": 24,
   "id": "22e22a44",
   "metadata": {},
   "outputs": [
    {
     "data": {
      "text/plain": [
       "'krishna'"
      ]
     },
     "execution_count": 24,
     "metadata": {},
     "output_type": "execute_result"
    }
   ],
   "source": [
    "kri = employee(\"krishna\")\n",
    "kri.getName()\n"
   ]
  },
  {
   "cell_type": "code",
   "execution_count": 25,
   "id": "98ac4af7",
   "metadata": {},
   "outputs": [
    {
     "data": {
      "text/plain": [
       "'krishna dipayan bhunia'"
      ]
     },
     "execution_count": 25,
     "metadata": {},
     "output_type": "execute_result"
    }
   ],
   "source": [
    "kri.setName(\"krishna dipayan bhunia\")\n",
    "kri.getName()"
   ]
  },
  {
   "cell_type": "code",
   "execution_count": null,
   "id": "90c58d84",
   "metadata": {},
   "outputs": [],
   "source": []
  }
 ],
 "metadata": {
  "kernelspec": {
   "display_name": "Python 3 (ipykernel)",
   "language": "python",
   "name": "python3"
  },
  "language_info": {
   "codemirror_mode": {
    "name": "ipython",
    "version": 3
   },
   "file_extension": ".py",
   "mimetype": "text/x-python",
   "name": "python",
   "nbconvert_exporter": "python",
   "pygments_lexer": "ipython3",
   "version": "3.10.9"
  }
 },
 "nbformat": 4,
 "nbformat_minor": 5
}

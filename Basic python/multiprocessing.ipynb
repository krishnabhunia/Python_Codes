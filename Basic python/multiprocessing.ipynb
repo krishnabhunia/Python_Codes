{
 "cells": [
  {
   "cell_type": "code",
   "execution_count": 1,
   "id": "ae0ebf21",
   "metadata": {},
   "outputs": [],
   "source": [
    "import multiprocessing as mp\n",
    "import time\n",
    "import math\n"
   ]
  },
  {
   "cell_type": "code",
   "execution_count": 2,
   "id": "da649bf1",
   "metadata": {},
   "outputs": [],
   "source": [
    "resa = []\n",
    "resb = []\n",
    "resc = []\n",
    "\n",
    "def startendmsg(func):\n",
    "    def wrapp(*para):\n",
    "        print(\"starts here\")\n",
    "        func(*para)\n",
    "        print(\"ends here\")\n",
    "    return wrapp\n",
    "\n",
    "# @startendmsg\n",
    "def mco(num):\n",
    "    for n in num:\n",
    "        resa.append(math.sqrt(n**3))\n",
    "    print(\"mco executed\")\n",
    "\n",
    "# @startendmsg\n",
    "def mct(num):\n",
    "    for n in num:\n",
    "        resb.append(math.sqrt(n**4))\n",
    "    print(\"mct executed\")\n",
    "        \n",
    "def mc3(num):\n",
    "    for n in num:\n",
    "        resc.append(math.sqrt(n**5))\n",
    "    print(\"mc3 executed\")\n",
    "        \n",
    "# mco([1,2,3])\n",
    "# mct([4,5,6])"
   ]
  },
  {
   "cell_type": "code",
   "execution_count": 3,
   "id": "ed23f9a5",
   "metadata": {},
   "outputs": [
    {
     "name": "stdout",
     "output_type": "stream",
     "text": [
      "Started p1\n",
      "Started p2\n",
      "Started p3\n",
      "Ended\n",
      "1.401707649230957\n"
     ]
    }
   ],
   "source": [
    "if __name__ == \"__main__\":\n",
    "    nl = list(range(10000))\n",
    "    \n",
    "    p1 = mp.Process(target = mco,args = (nl,))\n",
    "    p2 = mp.Process(target = mct,args = (nl,))\n",
    "    p3 = mp.Process(target = mc3,args = (nl,))\n",
    "    \n",
    "    start = time.time()\n",
    "    print(\"Started p1\")\n",
    "    p1.start()\n",
    "    print(\"Started p2\")\n",
    "    p2.start()\n",
    "    print(\"Started p3\")\n",
    "    p3.start()\n",
    "    end = time.time()\n",
    "    print(\"Ended\")\n",
    "    print(end-start)\n"
   ]
  },
  {
   "cell_type": "code",
   "execution_count": 6,
   "id": "692ef3fe",
   "metadata": {},
   "outputs": [
    {
     "name": "stdout",
     "output_type": "stream",
     "text": [
      "Started p1\n",
      "Started p2\n",
      "Started p3\n",
      "Ended\n",
      "1.8892862796783447\n"
     ]
    }
   ],
   "source": [
    "if __name__ == \"__main__\":\n",
    "    nl = list(range(10000))\n",
    "    \n",
    "    p1 = mp.Process(target = mco,args = (nl,))\n",
    "    p2 = mp.Process(target = mct,args = (nl,))\n",
    "    p3 = mp.Process(target = mc3,args = (nl,))\n",
    "    \n",
    "    start = time.time()\n",
    "    print(\"Started p1\")\n",
    "    p1.start()\n",
    "    p1.join()\n",
    "    print(\"Started p2\")\n",
    "    p2.start()\n",
    "    p2.join()\n",
    "    print(\"Started p3\")\n",
    "    p3.start()\n",
    "    p3.join()\n",
    "    end = time.time()\n",
    "    print(\"Ended\")\n",
    "    print(end-start)\n"
   ]
  },
  {
   "cell_type": "code",
   "execution_count": 50,
   "id": "3f63709b",
   "metadata": {},
   "outputs": [
    {
     "name": "stdout",
     "output_type": "stream",
     "text": [
      "0\n",
      "No parameter\n",
      "para is default or no para\n"
     ]
    }
   ],
   "source": [
    "def outt(func):\n",
    "    def wrapp(*para):\n",
    "        print(len(para))\n",
    "        if len(para)>0:\n",
    "            print(\"with parameter\",para[0])\n",
    "            func(para[0])\n",
    "        else:\n",
    "            print(\"No parameter\")\n",
    "            func()\n",
    "    return wrapp\n",
    "\n",
    "@outt\n",
    "def test(para=\"default or no para\"):\n",
    "    print(\"para is\", para)\n",
    "    \n",
    "test()\n",
    "# test(\"this has one parameter\")"
   ]
  },
  {
   "cell_type": "code",
   "execution_count": null,
   "id": "12852e5e",
   "metadata": {},
   "outputs": [],
   "source": []
  }
 ],
 "metadata": {
  "kernelspec": {
   "display_name": "Python 3 (ipykernel)",
   "language": "python",
   "name": "python3"
  },
  "language_info": {
   "codemirror_mode": {
    "name": "ipython",
    "version": 3
   },
   "file_extension": ".py",
   "mimetype": "text/x-python",
   "name": "python",
   "nbconvert_exporter": "python",
   "pygments_lexer": "ipython3",
   "version": "3.10.9"
  }
 },
 "nbformat": 4,
 "nbformat_minor": 5
}

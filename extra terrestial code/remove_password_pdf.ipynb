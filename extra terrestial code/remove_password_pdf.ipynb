{
 "cells": [
  {
   "cell_type": "code",
   "execution_count": 1,
   "id": "82225013",
   "metadata": {},
   "outputs": [
    {
     "name": "stdout",
     "output_type": "stream",
     "text": [
      "Collecting pikepdf\n",
      "  Downloading pikepdf-9.7.0-cp312-cp312-macosx_14_0_arm64.whl.metadata (8.1 kB)\n",
      "Collecting Pillow>=10.0.1 (from pikepdf)\n",
      "  Downloading pillow-11.2.1-cp312-cp312-macosx_11_0_arm64.whl.metadata (8.9 kB)\n",
      "Collecting Deprecated (from pikepdf)\n",
      "  Downloading Deprecated-1.2.18-py2.py3-none-any.whl.metadata (5.7 kB)\n",
      "Collecting lxml>=4.8 (from pikepdf)\n",
      "  Downloading lxml-5.3.2-cp312-cp312-macosx_10_9_universal2.whl.metadata (3.6 kB)\n",
      "Requirement already satisfied: packaging in /Users/krishna/Github Projects/Python_Codes/.venv/lib/python3.12/site-packages (from pikepdf) (24.2)\n",
      "Collecting wrapt<2,>=1.10 (from Deprecated->pikepdf)\n",
      "  Downloading wrapt-1.17.2-cp312-cp312-macosx_11_0_arm64.whl.metadata (6.4 kB)\n",
      "Downloading pikepdf-9.7.0-cp312-cp312-macosx_14_0_arm64.whl (4.5 MB)\n",
      "\u001b[2K   \u001b[90m━━━━━━━━━━━━━━━━━━━━━━━━━━━━━━━━━━━━━━━━\u001b[0m \u001b[32m4.5/4.5 MB\u001b[0m \u001b[31m3.9 MB/s\u001b[0m eta \u001b[36m0:00:00\u001b[0ma \u001b[36m0:00:01\u001b[0m\n",
      "\u001b[?25hDownloading lxml-5.3.2-cp312-cp312-macosx_10_9_universal2.whl (8.2 MB)\n",
      "\u001b[2K   \u001b[90m━━━━━━━━━━━━━━━━━━━━━━━━━━━━━━━━━━━━━━━━\u001b[0m \u001b[32m8.2/8.2 MB\u001b[0m \u001b[31m3.8 MB/s\u001b[0m eta \u001b[36m0:00:00\u001b[0ma \u001b[36m0:00:01\u001b[0m\n",
      "\u001b[?25hDownloading pillow-11.2.1-cp312-cp312-macosx_11_0_arm64.whl (3.0 MB)\n",
      "\u001b[2K   \u001b[90m━━━━━━━━━━━━━━━━━━━━━━━━━━━━━━━━━━━━━━━━\u001b[0m \u001b[32m3.0/3.0 MB\u001b[0m \u001b[31m3.6 MB/s\u001b[0m eta \u001b[36m0:00:00\u001b[0ma \u001b[36m0:00:01\u001b[0m\n",
      "\u001b[?25hDownloading Deprecated-1.2.18-py2.py3-none-any.whl (10.0 kB)\n",
      "Downloading wrapt-1.17.2-cp312-cp312-macosx_11_0_arm64.whl (38 kB)\n",
      "Installing collected packages: wrapt, Pillow, lxml, Deprecated, pikepdf\n",
      "Successfully installed Deprecated-1.2.18 Pillow-11.2.1 lxml-5.3.2 pikepdf-9.7.0 wrapt-1.17.2\n"
     ]
    }
   ],
   "source": [
    "!pip install pikepdf"
   ]
  },
  {
   "cell_type": "code",
   "execution_count": null,
   "id": "9ce40807",
   "metadata": {},
   "outputs": [
    {
     "name": "stdout",
     "output_type": "stream",
     "text": [
      "File not found. Check the path again.\n"
     ]
    }
   ],
   "source": [
    "import pikepdf # type: ignore\n",
    "\n",
    "# Input/output file paths\n",
    "input_pdf = \"'/Users/krishna/Documents/pdf_password_remove/CIBIL REPORT KRISHNA 226202342.pdf'\"\n",
    "output_pdf = \"'/Users/krishna/Documents/pdf_password_remove/removed password CIBIL REPORT KRISHNA 226202342.pdf'\"\n",
    "password = \"KRIB19900631\"  # replace with actual password\n",
    "\n",
    "try:\n",
    "    # Open the encrypted PDF with the password\n",
    "    with pikepdf.open(input_pdf, password=password) as pdf:\n",
    "        pdf.save(output_pdf)\n",
    "    print(\"Password removed successfully. Saved as:\", output_pdf)\n",
    "\n",
    "except pikepdf._qpdf.PasswordError:\n",
    "    print(\"Incorrect password. Unable to open the PDF.\")"
   ]
  }
 ],
 "metadata": {
  "kernelspec": {
   "display_name": ".venv",
   "language": "python",
   "name": "python3"
  },
  "language_info": {
   "codemirror_mode": {
    "name": "ipython",
    "version": 3
   },
   "file_extension": ".py",
   "mimetype": "text/x-python",
   "name": "python",
   "nbconvert_exporter": "python",
   "pygments_lexer": "ipython3",
   "version": "3.12.4"
  }
 },
 "nbformat": 4,
 "nbformat_minor": 5
}

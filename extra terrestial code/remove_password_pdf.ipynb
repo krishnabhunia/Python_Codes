{
 "cells": [
  {
   "cell_type": "code",
   "execution_count": 1,
   "id": "82225013",
   "metadata": {},
   "outputs": [
    {
     "name": "stdout",
     "output_type": "stream",
     "text": [
      "Requirement already satisfied: pikepdf in /Users/krishna/Github Projects/Python_Codes/.venv/lib/python3.12/site-packages (9.7.0)\n",
      "Requirement already satisfied: Pillow>=10.0.1 in /Users/krishna/Github Projects/Python_Codes/.venv/lib/python3.12/site-packages (from pikepdf) (11.2.1)\n",
      "Requirement already satisfied: Deprecated in /Users/krishna/Github Projects/Python_Codes/.venv/lib/python3.12/site-packages (from pikepdf) (1.2.18)\n",
      "Requirement already satisfied: lxml>=4.8 in /Users/krishna/Github Projects/Python_Codes/.venv/lib/python3.12/site-packages (from pikepdf) (5.3.2)\n",
      "Requirement already satisfied: packaging in /Users/krishna/Github Projects/Python_Codes/.venv/lib/python3.12/site-packages (from pikepdf) (24.2)\n",
      "Requirement already satisfied: wrapt<2,>=1.10 in /Users/krishna/Github Projects/Python_Codes/.venv/lib/python3.12/site-packages (from Deprecated->pikepdf) (1.17.2)\n",
      "Note: you may need to restart the kernel to use updated packages.\n",
      "\u001b[31mERROR: Could not find a version that satisfies the requirement qpdf (from versions: none)\u001b[0m\u001b[31m\n",
      "\u001b[0m\u001b[31mERROR: No matching distribution found for qpdf\u001b[0m\u001b[31m\n",
      "\u001b[0mNote: you may need to restart the kernel to use updated packages.\n"
     ]
    }
   ],
   "source": [
    "%pip install pikepdf\n",
    "%pip install qpdf"
   ]
  },
  {
   "cell_type": "code",
   "execution_count": 1,
   "id": "9ce40807",
   "metadata": {},
   "outputs": [
    {
     "ename": "AttributeError",
     "evalue": "module 'pikepdf' has no attribute '_qpdf'",
     "output_type": "error",
     "traceback": [
      "\u001b[0;31m---------------------------------------------------------------------------\u001b[0m",
      "\u001b[0;31mFileNotFoundError\u001b[0m                         Traceback (most recent call last)",
      "Cell \u001b[0;32mIn[1], line 10\u001b[0m\n\u001b[1;32m      8\u001b[0m \u001b[38;5;28;01mtry\u001b[39;00m:\n\u001b[1;32m      9\u001b[0m     \u001b[38;5;66;03m# Open the encrypted PDF with the password\u001b[39;00m\n\u001b[0;32m---> 10\u001b[0m     \u001b[38;5;28;01mwith\u001b[39;00m \u001b[43mpikepdf\u001b[49m\u001b[38;5;241;43m.\u001b[39;49m\u001b[43mopen\u001b[49m\u001b[43m(\u001b[49m\u001b[43minput_pdf\u001b[49m\u001b[43m,\u001b[49m\u001b[43m \u001b[49m\u001b[43mpassword\u001b[49m\u001b[38;5;241;43m=\u001b[39;49m\u001b[43mpassword\u001b[49m\u001b[43m)\u001b[49m \u001b[38;5;28;01mas\u001b[39;00m pdf:\n\u001b[1;32m     11\u001b[0m         pdf\u001b[38;5;241m.\u001b[39msave(output_pdf)\n",
      "File \u001b[0;32m~/Github Projects/Python_Codes/.venv/lib/python3.12/site-packages/pikepdf/_methods.py:397\u001b[0m, in \u001b[0;36mExtend_Pdf.open\u001b[0;34m(filename_or_stream, password, hex_password, ignore_xref_streams, suppress_warnings, attempt_recovery, inherit_page_attributes, access_mode, allow_overwriting_input)\u001b[0m\n\u001b[1;32m    396\u001b[0m \u001b[38;5;28;01melse\u001b[39;00m:\n\u001b[0;32m--> 397\u001b[0m     stream \u001b[38;5;241m=\u001b[39m \u001b[38;5;28;43mopen\u001b[39;49m\u001b[43m(\u001b[49m\u001b[43mfilename_or_stream\u001b[49m\u001b[43m,\u001b[49m\u001b[43m \u001b[49m\u001b[38;5;124;43m'\u001b[39;49m\u001b[38;5;124;43mrb\u001b[39;49m\u001b[38;5;124;43m'\u001b[39;49m\u001b[43m)\u001b[49m\n\u001b[1;32m    398\u001b[0m     original_filename \u001b[38;5;241m=\u001b[39m Path(filename_or_stream)\n",
      "\u001b[0;31mFileNotFoundError\u001b[0m: [Errno 2] No such file or directory: \"'/Users/krishna/Documents/pdf_password_remove/CIBIL REPORT KRISHNA 226202342.pdf'\"",
      "\nDuring handling of the above exception, another exception occurred:\n",
      "\u001b[0;31mAttributeError\u001b[0m                            Traceback (most recent call last)",
      "Cell \u001b[0;32mIn[1], line 14\u001b[0m\n\u001b[1;32m     11\u001b[0m         pdf\u001b[38;5;241m.\u001b[39msave(output_pdf)\n\u001b[1;32m     12\u001b[0m     \u001b[38;5;28mprint\u001b[39m(\u001b[38;5;124m\"\u001b[39m\u001b[38;5;124mPassword removed successfully. Saved as:\u001b[39m\u001b[38;5;124m\"\u001b[39m, output_pdf)\n\u001b[0;32m---> 14\u001b[0m \u001b[38;5;28;01mexcept\u001b[39;00m \u001b[43mpikepdf\u001b[49m\u001b[38;5;241;43m.\u001b[39;49m\u001b[43m_qpdf\u001b[49m\u001b[38;5;241m.\u001b[39mPasswordError:\n\u001b[1;32m     15\u001b[0m     \u001b[38;5;28mprint\u001b[39m(\u001b[38;5;124m\"\u001b[39m\u001b[38;5;124mIncorrect password. Unable to open the PDF.\u001b[39m\u001b[38;5;124m\"\u001b[39m)\n",
      "\u001b[0;31mAttributeError\u001b[0m: module 'pikepdf' has no attribute '_qpdf'"
     ]
    }
   ],
   "source": [
    "import pikepdf # type: ignore\n",
    "\n",
    "# Input/output file paths\n",
    "input_pdf = \"'/Users/krishna/Documents/pdf_password_remove/CIBIL REPORT KRISHNA 226202342.pdf'\"\n",
    "output_pdf = \"'/Users/krishna/Documents/pdf_password_remove/removed password CIBIL REPORT KRISHNA 226202342.pdf'\"\n",
    "password = \"KRIB19900631\"  # replace with actual password\n",
    "\n",
    "try:\n",
    "    # Open the encrypted PDF with the password\n",
    "    with pikepdf.open(input_pdf, password=password) as pdf:\n",
    "        pdf.save(output_pdf)\n",
    "    print(\"Password removed successfully. Saved as:\", output_pdf)\n",
    "\n",
    "except pikepdf._qpdf.PasswordError:\n",
    "    print(\"Incorrect password. Unable to open the PDF.\")"
   ]
  }
 ],
 "metadata": {
  "kernelspec": {
   "display_name": ".venv",
   "language": "python",
   "name": "python3"
  },
  "language_info": {
   "codemirror_mode": {
    "name": "ipython",
    "version": 3
   },
   "file_extension": ".py",
   "mimetype": "text/x-python",
   "name": "python",
   "nbconvert_exporter": "python",
   "pygments_lexer": "ipython3",
   "version": "3.12.4"
  }
 },
 "nbformat": 4,
 "nbformat_minor": 5
}

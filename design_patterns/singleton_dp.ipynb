{
 "cells": [
  {
   "cell_type": "markdown",
   "metadata": {},
   "source": [
    "1. Using a Metaclass (__call__ Method)\n",
    "This is the most Pythonic way to implement Singleton."
   ]
  },
  {
   "cell_type": "code",
   "execution_count": 1,
   "metadata": {},
   "outputs": [
    {
     "name": "stdout",
     "output_type": "stream",
     "text": [
      "True\n",
      "Instance1\n",
      "Instance1\n"
     ]
    },
    {
     "name": "stdout",
     "output_type": "stream",
     "text": [
      "True\n",
      "Instance1\n",
      "Instance1\n"
     ]
    }
   ],
   "source": [
    "class SingletonMeta(type):\n",
    "    \"\"\"A metaclass for creating singleton classes.\"\"\"\n",
    "    _instances = {}\n",
    "\n",
    "    def __call__(cls, *args, **kwargs):\n",
    "        \"\"\"Ensures only one instance of the class is created.\"\"\"\n",
    "        if cls not in cls._instances:\n",
    "            cls._instances[cls] = super().__call__(*args, **kwargs)\n",
    "        return cls._instances[cls]\n",
    "\n",
    "\n",
    "class Singleton(metaclass=SingletonMeta):\n",
    "    \"\"\"A class using the Singleton pattern via metaclass.\"\"\"\n",
    "    def __init__(self, value: str):\n",
    "        self.value = value\n",
    "\n",
    "\n",
    "# Testing Singleton behavior\n",
    "singleton1 = Singleton(\"Instance1\")\n",
    "singleton2 = Singleton(\"Instance2\")\n",
    "\n",
    "print(singleton1 is singleton2)  # True (both are the same instance)\n",
    "print(singleton1.value)  # \"Instance1\"\n",
    "print(singleton2.value)  # \"Instance1\" (value does not change)\n"
   ]
  },
  {
   "cell_type": "code",
   "execution_count": 4,
   "metadata": {
    "notebookRunGroups": {
     "groupValue": "2"
    }
   },
   "outputs": [
    {
     "name": "stdout",
     "output_type": "stream",
     "text": [
      "__new__ called\n",
      "__init__ called\n",
      "__new__ called\n",
      "__init__ called\n",
      "True\n",
      "First\n",
      "First\n"
     ]
    }
   ],
   "source": [
    "class Singleton:\n",
    "    _instance = None\n",
    "\n",
    "    def __new__(cls, *args, **kwargs):\n",
    "        print(\"__new__ called\")\n",
    "        if cls._instance is None:\n",
    "            cls._instance = super().__new__(cls)\n",
    "        return cls._instance\n",
    "\n",
    "    def __init__(self, value):\n",
    "        print(\"__init__ called\")\n",
    "        if not hasattr(self, \"value\"):  # Ensures value is set only once\n",
    "            self.value = value\n",
    "\n",
    "\n",
    "# Creating instances\n",
    "s1 = Singleton(\"First\")\n",
    "s2 = Singleton(\"Second\")\n",
    "\n",
    "print(s1 is s2)  # True (Same instance)\n",
    "print(s1.value)  # \"First\"\n",
    "print(s2.value)  # \"First\"\n"
   ]
  }
 ],
 "metadata": {
  "kernelspec": {
   "display_name": ".venv",
   "language": "python",
   "name": "python3"
  },
  "language_info": {
   "codemirror_mode": {
    "name": "ipython",
    "version": 3
   },
   "file_extension": ".py",
   "mimetype": "text/x-python",
   "name": "python",
   "nbconvert_exporter": "python",
   "pygments_lexer": "ipython3",
   "version": "3.12.5"
  }
 },
 "nbformat": 4,
 "nbformat_minor": 2
}

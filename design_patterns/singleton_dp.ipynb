{
 "cells": [
  {
   "cell_type": "markdown",
   "metadata": {},
   "source": [
    "1. Using a Metaclass (__call__ Method)\n",
    "This is the most Pythonic way to implement Singleton."
   ]
  },
  {
   "cell_type": "code",
   "execution_count": 4,
   "metadata": {},
   "outputs": [
    {
     "name": "stdout",
     "output_type": "stream",
     "text": [
      "True\n",
      "Instance1\n",
      "Instance1\n"
     ]
    }
   ],
   "source": [
    "class SingletonMeta(type):\n",
    "    \"\"\"A metaclass for creating singleton classes.\"\"\"\n",
    "    _instances = {}\n",
    "\n",
    "    def __call__(cls, *args, **kwargs):\n",
    "        \"\"\"Ensures only one instance of the class is created.\"\"\"\n",
    "        if cls not in cls._instances:\n",
    "            cls._instances[cls] = super().__call__(*args, **kwargs)\n",
    "        return cls._instances[cls]\n",
    "\n",
    "\n",
    "class Singleton(metaclass=SingletonMeta):\n",
    "    \"\"\"A class using the Singleton pattern via metaclass.\"\"\"\n",
    "    def __init__(self, value: str):\n",
    "        self.value = value\n",
    "\n",
    "\n",
    "# Testing Singleton behavior\n",
    "singleton1 = Singleton(\"Instance1\")\n",
    "singleton2 = Singleton(\"Instance2\")\n",
    "\n",
    "print(singleton1 is singleton2)  # True (both are the same instance)\n",
    "print(singleton1.value)  # \"Instance1\"\n",
    "print(singleton2.value)  # \"Instance1\" (value does not change)\n"
   ]
  }
 ],
 "metadata": {
  "kernelspec": {
   "display_name": ".venv",
   "language": "python",
   "name": "python3"
  },
  "language_info": {
   "codemirror_mode": {
    "name": "ipython",
    "version": 3
   },
   "file_extension": ".py",
   "mimetype": "text/x-python",
   "name": "python",
   "nbconvert_exporter": "python",
   "pygments_lexer": "ipython3",
   "version": "3.12.5"
  }
 },
 "nbformat": 4,
 "nbformat_minor": 2
}

{
 "cells": [
  {
   "cell_type": "code",
   "execution_count": null,
   "id": "8814dc88",
   "metadata": {},
   "outputs": [
    {
     "name": "stdout",
     "output_type": "stream",
     "text": [
      "True\n",
      "False\n"
     ]
    }
   ],
   "source": [
    "def is_valid_brace_order(s: str) -> bool:\n",
    "    stack = []\n",
    "    validbrace = {')':'(','}':'{',']':'['}\n",
    "    \n",
    "    for ch in s:\n",
    "        if ch in validbrace.values():\n",
    "            stack.append(ch)\n",
    "        elif ch in validbrace:\n",
    "            if not stack or stack.pop() != validbrace[ch]:\n",
    "                return False\n",
    "    return not stack\n",
    "\n",
    "print(is_valid_brace_order(\"{[()]}\"))   # True\n",
    "print(is_valid_brace_order(\"{[(])}\"))   # False"
   ]
  }
 ],
 "metadata": {
  "kernelspec": {
   "display_name": ".venv",
   "language": "python",
   "name": "python3"
  },
  "language_info": {
   "codemirror_mode": {
    "name": "ipython",
    "version": 3
   },
   "file_extension": ".py",
   "mimetype": "text/x-python",
   "name": "python",
   "nbconvert_exporter": "python",
   "pygments_lexer": "ipython3",
   "version": "3.12.4"
  }
 },
 "nbformat": 4,
 "nbformat_minor": 5
}

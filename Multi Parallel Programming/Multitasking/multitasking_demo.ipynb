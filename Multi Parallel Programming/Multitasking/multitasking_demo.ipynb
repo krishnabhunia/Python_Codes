{
 "cells": [
  {
   "cell_type": "code",
   "execution_count": 15,
   "metadata": {},
   "outputs": [
    {
     "name": "stdout",
     "output_type": "stream",
     "text": [
      "['Task 0 start: 02 end: 04', 'Task 1 start: 02 end: 04', 'Task 2 start: 02 end: 04', 'Task 3 start: 04 end: 06', 'Task 4 start: 04 end: 06']\n"
     ]
    }
   ],
   "source": [
    "from concurrent.futures import ThreadPoolExecutor\n",
    "import time\n",
    "\n",
    "def get_time():\n",
    "    return time.strftime(\"%S\")\n",
    "\n",
    "def task(n):\n",
    "    start = get_time()\n",
    "    time.sleep(2)\n",
    "    end = get_time()\n",
    "    return f\"Task {n} start: {start} end: {end}\"\n",
    "\n",
    "with ThreadPoolExecutor(max_workers=3) as executor:\n",
    "    results = list(executor.map(task, range(5)))\n",
    "\n",
    "print(results)\n"
   ]
  }
 ],
 "metadata": {
  "kernelspec": {
   "display_name": ".venv",
   "language": "python",
   "name": "python3"
  },
  "language_info": {
   "codemirror_mode": {
    "name": "ipython",
    "version": 3
   },
   "file_extension": ".py",
   "mimetype": "text/x-python",
   "name": "python",
   "nbconvert_exporter": "python",
   "pygments_lexer": "ipython3",
   "version": "3.12.4"
  }
 },
 "nbformat": 4,
 "nbformat_minor": 2
}
